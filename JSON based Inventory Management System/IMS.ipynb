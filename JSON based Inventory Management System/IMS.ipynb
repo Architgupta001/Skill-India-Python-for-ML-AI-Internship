{
 "cells": [
  {
   "cell_type": "code",
   "execution_count": 1,
   "metadata": {
    "id": "YRaQvX_QNBxP"
   },
   "outputs": [],
   "source": [
    "records = {\"1001\": {'name': 'Dairymilk', 'quantity': 34, 'price': 150},\n",
    "           \"1002\": {'name': 'Milky bar', 'quantity': 400, 'price': 15}, \n",
    "           \"1003\": {'name': 'Ferroro Rocher', 'quantity': 60, 'price': 600} ,\n",
    "           \"1004\": {'name': 'Lollipop', 'quantity': 80, 'price': 5},\n",
    "           \"1005\": {'name': 'Twix', 'quantity': 50, 'price': 95},\n",
    "           \"1006\": {'name': 'Mars', 'quantity': 40, 'price': 150},\n",
    "           \"1007\": {'name': 'Snickers', 'quantity': 70, 'price': 30},\n",
    "           \"1008\": {'name': 'Nutella', 'quantity': 50, 'price': 100},\n",
    "           \"1009\": {'name': 'Kinderjoy', 'quantity': 700, 'price': 40},\n",
    "           \"1010\": {'name': 'Dark chocolate', 'quantity': 85, 'price': 98},\n",
    "           \"1011\": {'name': 'Kit Kat', 'quantity': 300, 'price': 32},\n",
    "           \"1012\": {'name': '5 star', 'quantity': 400, 'price': 23},\n",
    "           \"1013\": {'name': 'Gems', 'quantity': 124, 'price': 15},\n",
    "           \"1014\": {'name': 'Munch', 'quantity': 180, 'price': 5},\n",
    "           \"1015\": {'name': 'Bournville', 'quantity': 300, 'price': 120}}"
   ]
  },
  {
   "cell_type": "code",
   "execution_count": 2,
   "metadata": {
    "colab": {
     "base_uri": "https://localhost:8080/"
    },
    "id": "xANnXo2vNHnt",
    "outputId": "f1759372-d2b4-4f9a-83c6-19a0cfde2c3e"
   },
   "outputs": [
    {
     "data": {
      "text/plain": [
       "{'1001': {'name': 'Dairymilk', 'quantity': 34, 'price': 150},\n",
       " '1002': {'name': 'Milky bar', 'quantity': 400, 'price': 15},\n",
       " '1003': {'name': 'Ferroro Rocher', 'quantity': 60, 'price': 600},\n",
       " '1004': {'name': 'Lollipop', 'quantity': 80, 'price': 5},\n",
       " '1005': {'name': 'Twix', 'quantity': 50, 'price': 95},\n",
       " '1006': {'name': 'Mars', 'quantity': 40, 'price': 150},\n",
       " '1007': {'name': 'Snickers', 'quantity': 70, 'price': 30},\n",
       " '1008': {'name': 'Nutella', 'quantity': 50, 'price': 100},\n",
       " '1009': {'name': 'Kinderjoy', 'quantity': 700, 'price': 40},\n",
       " '1010': {'name': 'Dark chocolate', 'quantity': 85, 'price': 98},\n",
       " '1011': {'name': 'Kit Kat', 'quantity': 300, 'price': 32},\n",
       " '1012': {'name': '5 star', 'quantity': 400, 'price': 23},\n",
       " '1013': {'name': 'Gems', 'quantity': 124, 'price': 15},\n",
       " '1014': {'name': 'Munch', 'quantity': 180, 'price': 5},\n",
       " '1015': {'name': 'Bournville', 'quantity': 300, 'price': 120}}"
      ]
     },
     "execution_count": 2,
     "metadata": {},
     "output_type": "execute_result"
    }
   ],
   "source": [
    "records"
   ]
  },
  {
   "cell_type": "code",
   "execution_count": 3,
   "metadata": {
    "id": "-xgICEYzNMo2"
   },
   "outputs": [],
   "source": [
    "import json\n",
    "js =json.dumps(records)\n",
    "\n",
    "fd = open(\"records.json\",'w')\n",
    "fd.write(js)\n",
    "fd.close()"
   ]
  },
  {
   "cell_type": "code",
   "execution_count": 4,
   "metadata": {
    "id": "XO4QLpxFNS7p"
   },
   "outputs": [],
   "source": [
    "fd = open('records.json', 'r')\n",
    "t = fd.read()\n",
    "fd.close()\n",
    "\n",
    "fd = open('records.json','w')\n",
    "fd.write(t)\n",
    "fd.close()\n",
    "\n",
    "sales = {}\n",
    "\n",
    "sales = json.dumps(sales)\n",
    "\n",
    "fd = open(\"sales.json\", 'w')\n",
    "fd.write(sales)\n",
    "fd.close()"
   ]
  },
  {
   "cell_type": "code",
   "execution_count": 5,
   "metadata": {
    "id": "Ud-1QOyMNYK4"
   },
   "outputs": [],
   "source": [
    "import json\n",
    "import time"
   ]
  },
  {
   "cell_type": "code",
   "execution_count": 6,
   "metadata": {
    "id": "8XEDnGSZNaRt"
   },
   "outputs": [],
   "source": [
    "fd = open('records.json','r')\n",
    "t = fd.read()\n",
    "fd.close()\n",
    "dct = json.loads(t)"
   ]
  },
  {
   "cell_type": "code",
   "execution_count": 7,
   "metadata": {
    "colab": {
     "base_uri": "https://localhost:8080/"
    },
    "id": "vTad44wMNc6a",
    "outputId": "2ddc4b0e-93eb-4db7-a9dc-ea0ec99755fc"
   },
   "outputs": [
    {
     "data": {
      "text/plain": [
       "dict_keys(['1001', '1002', '1003', '1004', '1005', '1006', '1007', '1008', '1009', '1010', '1011', '1012', '1013', '1014', '1015'])"
      ]
     },
     "execution_count": 7,
     "metadata": {},
     "output_type": "execute_result"
    }
   ],
   "source": [
    "fd = open(\"sales.json\", 'r')\n",
    "sl = fd.read()\n",
    "fd.close()\n",
    "sales = json.loads(sl)\n",
    "dct.keys()"
   ]
  },
  {
   "cell_type": "code",
   "execution_count": 8,
   "metadata": {
    "colab": {
     "base_uri": "https://localhost:8080/"
    },
    "id": "3B_OylmGNhmg",
    "outputId": "e4bd07da-607d-44d0-e7ec-2dcf1d33e5e1"
   },
   "outputs": [
    {
     "name": "stdout",
     "output_type": "stream",
     "text": [
      "**********************************************\n",
      "1001 {'name': 'Dairymilk', 'quantity': 34, 'price': 150}\n",
      "1002 {'name': 'Milky bar', 'quantity': 400, 'price': 15}\n",
      "1003 {'name': 'Ferroro Rocher', 'quantity': 60, 'price': 600}\n",
      "1004 {'name': 'Lollipop', 'quantity': 80, 'price': 5}\n",
      "1005 {'name': 'Twix', 'quantity': 50, 'price': 95}\n",
      "1006 {'name': 'Mars', 'quantity': 40, 'price': 150}\n",
      "1007 {'name': 'Snickers', 'quantity': 70, 'price': 30}\n",
      "1008 {'name': 'Nutella', 'quantity': 50, 'price': 100}\n",
      "1009 {'name': 'Kinderjoy', 'quantity': 700, 'price': 40}\n",
      "1010 {'name': 'Dark chocolate', 'quantity': 85, 'price': 98}\n",
      "1011 {'name': 'Kit Kat', 'quantity': 300, 'price': 32}\n",
      "1012 {'name': '5 star', 'quantity': 400, 'price': 23}\n",
      "1013 {'name': 'Gems', 'quantity': 124, 'price': 15}\n",
      "1014 {'name': 'Munch', 'quantity': 180, 'price': 5}\n",
      "1015 {'name': 'Bournville', 'quantity': 300, 'price': 120}\n",
      "******************************************\n",
      "\n"
     ]
    },
    {
     "name": "stdin",
     "output_type": "stream",
     "text": [
      "Enter the product_Id:  1001\n",
      "Enter the quantity:  200\n"
     ]
    },
    {
     "name": "stdout",
     "output_type": "stream",
     "text": [
      "Sorry, We are not having that much of quantity.\n",
      "We're only having 34 quantity.\n",
      "Would you like to purchase or not (Y/N)\n"
     ]
    },
    {
     "name": "stdin",
     "output_type": "stream",
     "text": [
      "Y/N Y\n"
     ]
    },
    {
     "name": "stdout",
     "output_type": "stream",
     "text": [
      "Name: Dairymilk\n",
      "Price: 150\n",
      "Quantity: 34\n",
      "------------------------------\n",
      "Billing Amount: 5100\n",
      "------------------------------\n",
      "Data Updated in Sales File!\n",
      "Data Updated in Inventory File!\n"
     ]
    }
   ],
   "source": [
    "print(\"**********************************************\")\n",
    "for i in dct.keys():\n",
    "  print(i, dct[i])\n",
    "\n",
    "print(\"******************************************\\n\")\n",
    "ui_prod  = str(input(\"Enter the product_Id: \"))\n",
    "ui_quant = int(input(\"Enter the quantity: \"))\n",
    "\n",
    "\n",
    "if (ui_prod in dct.keys()):                                                     \n",
    "    if (dct[ui_prod]['quantity'] >= ui_quant):                                        \n",
    "      print(\"Name:\",dct[ui_prod]['name'])\n",
    "      print(\"Price:\",dct[ui_prod]['price'])\n",
    "      print(\"Quantity:\", ui_quant)\n",
    "      print(\"------------------------------\")\n",
    "      print(\"Billing Amount:\", dct[ui_prod]['price'] * ui_quant)\n",
    "\n",
    "      dct[ui_prod]['quantity'] = dct[ui_prod]['quantity'] - ui_quant                        \n",
    "\n",
    "      sales[str(len(sales)+1)] = {'prod_id' : ui_prod,                          \n",
    "                                  \"time_pr\" :  time.ctime(), \n",
    "                                  'bill' : dct[ui_prod]['price'] * ui_quant, \n",
    "                                  'quantity' : ui_quant, \n",
    "                                  'price' : dct[ui_prod]['price'], \n",
    "                                  'pr_name' : dct[ui_prod]['name']}\n",
    "\n",
    "\n",
    "    else:                                                                       \n",
    "      print(\"Sorry, We are not having that much of quantity.\")\n",
    "      print(\"We're only having\",dct[ui_prod]['quantity'],\"quantity.\")\n",
    "      print(\"Would you like to purchase or not (Y/N)\")\n",
    "      ch = str(input(\"Y/N\"))\n",
    "      if (ch == \"Y\"):                                                          \n",
    "        print(\"Name:\",dct[ui_prod]['name'])\n",
    "        print(\"Price:\",dct[ui_prod]['price'])\n",
    "        print(\"Quantity:\", dct[ui_prod]['quantity'])\n",
    "        print(\"------------------------------\")\n",
    "        print(\"Billing Amount:\", dct[ui_prod]['price'] * dct[ui_prod]['quantity'])\n",
    "\n",
    "        dct[ui_prod]['quantity'] = 0                                                  \n",
    "        sales[str(len(sales)+1)] = {'prod_id' : ui_prod,                        \n",
    "                                    \"time_pr\" :  time.ctime(), \n",
    "                                    'bill' : dct[ui_prod]['price'] * dct[ui_prod]['quantity'], \n",
    "                                    'quantity' : dct[ui_prod]['quantity'], \n",
    "                                    'price' : dct[ui_prod]['price'], \n",
    "                                    'pr_name' : dct[ui_prod]['name']}\n",
    "\n",
    "      else:                                                                     \n",
    "        print(\"Thankyou!\")\n",
    "\n",
    "else:                                                                           \n",
    "  print(\"------------------------------\")\n",
    "  print(\"Product doesn't exist!\")\n",
    "  print(\"Please enter a valid product id\")\n",
    "  print(\"------------------------------\")\n",
    "\n",
    "\n",
    "\n",
    "sl = json.dumps(sales)                                                          \n",
    "fd = open('sales.json','w')\n",
    "fd.write(sl)\n",
    "fd.close()\n",
    "\n",
    "print(\"------------------------------\")\n",
    "print(\"Data Updated in Sales File!\")\n",
    "js = json.dumps(dct)                                                            \n",
    "fd = open('records.json','w')\n",
    "fd.write(js)\n",
    "fd.close()\n",
    "\n",
    "print(\"Data Updated in Inventory File!\")\n"
   ]
  },
  {
   "cell_type": "code",
   "execution_count": 9,
   "metadata": {
    "colab": {
     "base_uri": "https://localhost:8080/"
    },
    "id": "zHqbHbujNqBK",
    "outputId": "2094c255-05fd-45e8-d5df-d0fee39c1612"
   },
   "outputs": [
    {
     "data": {
      "text/plain": [
       "{'1001': {'name': 'Dairymilk', 'quantity': 0, 'price': 150},\n",
       " '1002': {'name': 'Milky bar', 'quantity': 400, 'price': 15},\n",
       " '1003': {'name': 'Ferroro Rocher', 'quantity': 60, 'price': 600},\n",
       " '1004': {'name': 'Lollipop', 'quantity': 80, 'price': 5},\n",
       " '1005': {'name': 'Twix', 'quantity': 50, 'price': 95},\n",
       " '1006': {'name': 'Mars', 'quantity': 40, 'price': 150},\n",
       " '1007': {'name': 'Snickers', 'quantity': 70, 'price': 30},\n",
       " '1008': {'name': 'Nutella', 'quantity': 50, 'price': 100},\n",
       " '1009': {'name': 'Kinderjoy', 'quantity': 700, 'price': 40},\n",
       " '1010': {'name': 'Dark chocolate', 'quantity': 85, 'price': 98},\n",
       " '1011': {'name': 'Kit Kat', 'quantity': 300, 'price': 32},\n",
       " '1012': {'name': '5 star', 'quantity': 400, 'price': 23},\n",
       " '1013': {'name': 'Gems', 'quantity': 124, 'price': 15},\n",
       " '1014': {'name': 'Munch', 'quantity': 180, 'price': 5},\n",
       " '1015': {'name': 'Bournville', 'quantity': 300, 'price': 120}}"
      ]
     },
     "execution_count": 9,
     "metadata": {},
     "output_type": "execute_result"
    }
   ],
   "source": [
    "dct"
   ]
  },
  {
   "cell_type": "code",
   "execution_count": 10,
   "metadata": {
    "colab": {
     "base_uri": "https://localhost:8080/"
    },
    "id": "t04GYTqVNtSZ",
    "outputId": "cc96d596-23f1-40d7-8124-3104d61250c7"
   },
   "outputs": [
    {
     "data": {
      "text/plain": [
       "{'1': {'prod_id': '1001',\n",
       "  'time_pr': 'Wed Mar 16 22:53:24 2022',\n",
       "  'bill': 0,\n",
       "  'quantity': 0,\n",
       "  'price': 150,\n",
       "  'pr_name': 'Dairymilk'}}"
      ]
     },
     "execution_count": 10,
     "metadata": {},
     "output_type": "execute_result"
    }
   ],
   "source": [
    "sales"
   ]
  },
  {
   "cell_type": "code",
   "execution_count": null,
   "metadata": {},
   "outputs": [],
   "source": []
  }
 ],
 "metadata": {
  "colab": {
   "name": "IMS.ipynb",
   "provenance": []
  },
  "kernelspec": {
   "display_name": "Python 3",
   "language": "python",
   "name": "python3"
  },
  "language_info": {
   "codemirror_mode": {
    "name": "ipython",
    "version": 3
   },
   "file_extension": ".py",
   "mimetype": "text/x-python",
   "name": "python",
   "nbconvert_exporter": "python",
   "pygments_lexer": "ipython3",
   "version": "3.8.5"
  }
 },
 "nbformat": 4,
 "nbformat_minor": 4
}
